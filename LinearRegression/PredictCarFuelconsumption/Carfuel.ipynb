{
 "cells": [
  {
   "cell_type": "markdown",
   "metadata": {},
   "source": [
    "### Predict car consumption\n",
    "\n",
    "#### Task:\n",
    "\n",
    "A company has announced a new car, but has not yet provided any fuel consumption data. Can you estimate the car's consumption (in l/100km) by training a model?\n",
    "\n",
    "The car has:\n",
    "\n",
    "- 8 cylinders\n",
    "- 200hp\n",
    "- 2500kg\n",
    "\n",
    "To do this, read the file `mpg-dataset.csv`. Then train a model and predict the consumption (in l/100km) of this car!"
   ]
  },
  {
   "cell_type": "code",
   "execution_count": null,
   "metadata": {},
   "outputs": [
    {
     "name": "stdout",
     "output_type": "stream",
     "text": [
      "2.352145833333333\n"
     ]
    }
   ],
   "source": [
    "def mpg_to_l_per_100km(mpg):\n",
    "    LITERS_PER_GALLON = 3.785411784\n",
    "    KILOMETERS_PER_MILES = 1.609344\n",
    "\n",
    "    return (100 * LITERS_PER_GALLON) / (KILOMETERS_PER_MILES * mpg)\n",
    "\n",
    "print(mpg_to_l_per_100km(100))"
   ]
  },
  {
   "cell_type": "code",
   "execution_count": null,
   "metadata": {},
   "outputs": [],
   "source": [
    "import pandas as pd\n",
    "\n",
    "df = pd.read_csv(\"mpg-dataset.csv\")"
   ]
  },
  {
   "cell_type": "code",
   "execution_count": null,
   "metadata": {},
   "outputs": [],
   "source": [
    "X = df[[\"cylinders\", \"horsepower\", \"weight\"]]"
   ]
  },
  {
   "cell_type": "code",
   "execution_count": null,
   "metadata": {},
   "outputs": [],
   "source": [
    "y = mpg_to_l_per_100km(df[\"mpg\"])"
   ]
  },
  {
   "cell_type": "code",
   "execution_count": null,
   "metadata": {},
   "outputs": [],
   "source": [
    "# Task: Train linear regression"
   ]
  },
  {
   "cell_type": "code",
   "execution_count": null,
   "metadata": {},
   "outputs": [],
   "source": []
  },
  {
   "cell_type": "code",
   "execution_count": null,
   "metadata": {},
   "outputs": [],
   "source": []
  }
 ],
 "metadata": {
  "kernelspec": {
   "display_name": "Python 3",
   "language": "python",
   "name": "python3"
  },
  "language_info": {
   "codemirror_mode": {
    "name": "ipython",
    "version": 3
   },
   "file_extension": ".py",
   "mimetype": "text/x-python",
   "name": "python",
   "nbconvert_exporter": "python",
   "pygments_lexer": "ipython3",
   "version": "3.6.4"
  }
 },
 "nbformat": 4,
 "nbformat_minor": 2
}
